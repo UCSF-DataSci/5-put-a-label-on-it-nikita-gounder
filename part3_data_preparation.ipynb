{
 "cells": [
  {
   "cell_type": "markdown",
   "id": "4537955c",
   "metadata": {},
   "source": [
    "# Part 3: Practical Data Preparation\n",
    "\n",
    "**Objective:** Handle categorical features using One-Hot Encoding and address class imbalance using SMOTE.\n",
    "\n",
    "## 1. Setup\n",
    "\n",
    "Import necessary libraries."
   ]
  },
  {
   "cell_type": "code",
   "execution_count": 64,
   "id": "c9eda821",
   "metadata": {},
   "outputs": [],
   "source": [
    "import pandas as pd\n",
    "import numpy as np\n",
    "import os\n",
    "from sklearn.model_selection import train_test_split\n",
    "from sklearn.preprocessing import OneHotEncoder\n",
    "from sklearn.linear_model import LogisticRegression\n",
    "from sklearn.metrics import accuracy_score, precision_score, recall_score, f1_score, roc_auc_score, confusion_matrix\n",
    "from sklearn.impute import SimpleImputer\n",
    "from imblearn.over_sampling import SMOTE"
   ]
  },
  {
   "cell_type": "markdown",
   "id": "49c78486",
   "metadata": {},
   "source": [
    "## 2. Data Loading\n",
    "\n",
    "Load the dataset."
   ]
  },
  {
   "cell_type": "code",
   "execution_count": 65,
   "id": "a8b30d74",
   "metadata": {},
   "outputs": [],
   "source": [
    "def load_data(file_path):\n",
    "    \"\"\"\n",
    "    Load the synthetic health data from a CSV file.\n",
    "    \n",
    "    Args:\n",
    "        file_path: Path to the CSV file\n",
    "        \n",
    "    Returns:\n",
    "        DataFrame containing the data\n",
    "    \"\"\"\n",
    "    # YOUR CODE HERE\n",
    "    # Load the CSV file using pandas\n",
    "\n",
    "    df = pd.read_csv(file_path)\n",
    "    \n",
    "    return df\n"
   ]
  },
  {
   "cell_type": "markdown",
   "id": "57595d45",
   "metadata": {},
   "source": [
    "## 3. Categorical Feature Encoding\n",
    "\n",
    "Implement `encode_categorical_features` using `OneHotEncoder`."
   ]
  },
  {
   "cell_type": "code",
   "execution_count": 66,
   "id": "29764bfd",
   "metadata": {},
   "outputs": [],
   "source": [
    "def encode_categorical_features(df, column_to_encode='smoker_status'):\n",
    "    \"\"\"\n",
    "    Encode a categorical column using OneHotEncoder.\n",
    "    \n",
    "    Args:\n",
    "        df: Input DataFrame\n",
    "        column_to_encode: Name of the categorical column to encode\n",
    "        \n",
    "    Returns:\n",
    "        DataFrame with the categorical column replaced by one-hot encoded columns\n",
    "    \"\"\"\n",
    "    # YOUR CODE HERE\n",
    "    # 1. Extract the categorical column\n",
    "    # 2. Apply OneHotEncoder\n",
    "    # 3. Create new column names\n",
    "    # 4. Replace the original categorical column with the encoded columns\n",
    "\n",
    "    categorical = df[[column_to_encode]]\n",
    "    encoder = OneHotEncoder()\n",
    "    enc_array = encoder.fit_transform(categorical)\n",
    "    enc_df = pd.DataFrame(enc_array.toarray(), columns=encoder.get_feature_names_out())\n",
    "\n",
    "    df_encoded = df.drop(columns=[column_to_encode])\n",
    "    \n",
    "    return pd.concat([df_encoded, enc_df], axis=1)"
   ]
  },
  {
   "cell_type": "markdown",
   "id": "4777e921",
   "metadata": {},
   "source": [
    "## 4. Data Preparation\n",
    "\n",
    "Implement `prepare_data_part3` to handle the train/test split correctly."
   ]
  },
  {
   "cell_type": "code",
   "execution_count": 67,
   "id": "14c6c05b",
   "metadata": {},
   "outputs": [],
   "source": [
    "def prepare_data_part3(df, test_size=0.2, random_state=42):\n",
    "    \"\"\"\n",
    "    Prepare data with categorical encoding.\n",
    "    \n",
    "    Args:\n",
    "        df: Input DataFrame\n",
    "        test_size: Proportion of data for testing\n",
    "        random_state: Random seed for reproducibility\n",
    "        \n",
    "    Returns:\n",
    "        X_train, X_test, y_train, y_test\n",
    "    \"\"\"\n",
    "    # YOUR CODE HERE\n",
    "    # 1. Encode categorical features using the encode_categorical_features function\n",
    "    # 2. Select relevant features (including the one-hot encoded ones) and the target\n",
    "    # 3. Split data into training and testing sets\n",
    "    # 4. Handle missing values\n",
    "    \n",
    "    cdf = encode_categorical_features(df)\n",
    "\n",
    "    features_df = cdf[['age', 'systolic_bp', 'diastolic_bp', 'glucose_level', 'bmi','smoker_status_former', 'smoker_status_no', 'smoker_status_yes']]\n",
    "    target = cdf['disease_outcome']\n",
    "\n",
    "    imputer = SimpleImputer(strategy='mean') \n",
    "    imputer.fit(features_df)\n",
    "    imputed_df = pd.DataFrame(imputer.transform(features_df), columns=features_df.columns)\n",
    "\n",
    "    X_train, X_test, y_train, y_test = train_test_split(imputed_df, target, test_size=test_size, random_state=random_state)\n",
    "\n",
    "    return X_train, X_test, y_train, y_test"
   ]
  },
  {
   "cell_type": "markdown",
   "id": "a4e5bbd3",
   "metadata": {},
   "source": [
    "## 5. Handling Imbalanced Data\n",
    "\n",
    "Implement `apply_smote` to oversample the minority class."
   ]
  },
  {
   "cell_type": "code",
   "execution_count": 68,
   "id": "a5a2784d",
   "metadata": {},
   "outputs": [],
   "source": [
    "def apply_smote(X_train, y_train, random_state=42):\n",
    "    \"\"\"\n",
    "    Apply SMOTE to oversample the minority class.\n",
    "    \n",
    "    Args:\n",
    "        X_train: Training features\n",
    "        y_train: Training target\n",
    "        random_state: Random seed for reproducibility\n",
    "        \n",
    "    Returns:\n",
    "        Resampled X_train and y_train with balanced classes\n",
    "    \"\"\"\n",
    "    # YOUR CODE HERE\n",
    "    # Apply SMOTE to balance the classes\n",
    "    \n",
    "    smote= SMOTE(random_state=random_state)\n",
    "    X_re_train, y_re_train = smote.fit_resample(X_train, y_train)\n",
    "\n",
    "    return X_re_train, y_re_train"
   ]
  },
  {
   "cell_type": "markdown",
   "id": "2a841611",
   "metadata": {},
   "source": [
    "## 6. Model Training and Evaluation\n",
    "\n",
    "Train a model on the SMOTE-resampled data and evaluate it."
   ]
  },
  {
   "cell_type": "code",
   "execution_count": 69,
   "id": "42d417a6",
   "metadata": {},
   "outputs": [],
   "source": [
    "def train_logistic_regression(X_train, y_train):\n",
    "    \"\"\"\n",
    "    Train a logistic regression model.\n",
    "    \n",
    "    Args:\n",
    "        X_train: Training features\n",
    "        y_train: Training target\n",
    "        \n",
    "    Returns:\n",
    "        Trained logistic regression model\n",
    "    \"\"\"\n",
    "    # YOUR CODE HERE\n",
    "    # Initialize and train a LogisticRegression model\n",
    "\n",
    "    lrmodel = LogisticRegression()\n",
    "    lrmodel.fit(X_train, y_train)\n",
    "    \n",
    "    return lrmodel  "
   ]
  },
  {
   "cell_type": "code",
   "execution_count": 70,
   "id": "553dca52",
   "metadata": {},
   "outputs": [],
   "source": [
    "def calculate_evaluation_metrics(model, X_test, y_test):\n",
    "    \"\"\"\n",
    "    Calculate classification evaluation metrics.\n",
    "    \n",
    "    Args:\n",
    "        model: Trained model\n",
    "        X_test: Test features\n",
    "        y_test: Test target\n",
    "        \n",
    "    Returns:\n",
    "        Dictionary containing accuracy, precision, recall, f1, auc, and confusion_matrix\n",
    "    \"\"\"\n",
    "    # YOUR CODE HERE\n",
    "    # 1. Generate predictions\n",
    "    # 2. Calculate metrics: accuracy, precision, recall, f1, auc\n",
    "    # 3. Create confusion matrix\n",
    "    # 4. Return metrics in a dictionary\n",
    "\n",
    "    y_pred = model.predict(X_test)\n",
    "    \n",
    "    accuracy = accuracy_score(y_test, y_pred)\n",
    "    precision = precision_score(y_test, y_pred)\n",
    "    recall = recall_score(y_test, y_pred)\n",
    "    f1 = f1_score(y_test, y_pred)\n",
    "    auc = roc_auc_score(y_test, y_pred)\n",
    "\n",
    "    conf_matrix = confusion_matrix(y_test, y_pred)\n",
    "    \n",
    "    return {'accuracy':accuracy, 'precision':precision, 'recall':recall, 'f1':f1, 'auc':auc, 'confusion_matrix':conf_matrix}"
   ]
  },
  {
   "cell_type": "markdown",
   "id": "28916617",
   "metadata": {},
   "source": [
    "\n",
    "## 7. Save Results\n",
    "\n",
    "Save the evaluation metrics to a text file."
   ]
  },
  {
   "cell_type": "code",
   "execution_count": 71,
   "id": "7f8d5579",
   "metadata": {},
   "outputs": [],
   "source": [
    "# YOUR CODE HERE\n",
    "# 1. Create 'results' directory if it doesn't exist\n",
    "# 2. Format metrics as strings\n",
    "# 3. Write metrics to 'results/results_part3.txt'\n",
    "\n",
    "#with open('results/results_part3.txt', 'w') as file:\n",
    "    #for name, value in metric.items():\n",
    "            #file.write(f\"{name}: {value} \\n\")"
   ]
  },
  {
   "cell_type": "markdown",
   "id": "f8d3d9d1",
   "metadata": {},
   "source": [
    "## 9. Compare Results\n",
    "\n",
    "Implement a function to compare model performance between balanced and imbalanced data."
   ]
  },
  {
   "cell_type": "code",
   "execution_count": 72,
   "id": "a3c93546",
   "metadata": {},
   "outputs": [],
   "source": [
    "def compare_models(part1_metrics, part3_metrics):\n",
    "    \"\"\"\n",
    "    Calculate percentage improvement between models trained on imbalanced vs. balanced data.\n",
    "    \n",
    "    Args:\n",
    "        part1_metrics: Dictionary containing evaluation metrics from Part 1 (imbalanced)\n",
    "        part3_metrics: Dictionary containing evaluation metrics from Part 3 (balanced)\n",
    "        \n",
    "    Returns:\n",
    "        Dictionary with metric names as keys and improvement percentages as values\n",
    "    \"\"\"\n",
    "    # YOUR CODE HERE\n",
    "    # 1. Calculate percentage improvement for each metric\n",
    "    # 2. Handle metrics where higher is better (most metrics) and where lower is better\n",
    "    # 3. Return a dictionary with metric names and improvement percentages\n",
    "    \n",
    "    percentage = {}\n",
    "    \n",
    "    for metric in part3_metrics:\n",
    "        if metric != 'confusion_matrix':  # Exclude confusion_matrix \n",
    "            percentage[metric] = 100 * ( (part3_metrics[metric] / part1_metrics[metric]) -1)\n",
    "            #100 * (part3_metrics[metric] - part1_metrics[metric]) / part3_metrics[metric] um not percents more like 0.something\n",
    "    return percentage "
   ]
  },
  {
   "cell_type": "markdown",
   "id": "781025b1",
   "metadata": {},
   "source": [
    "## 8. Main Execution\n",
    "\n",
    "Run the complete workflow."
   ]
  },
  {
   "cell_type": "code",
   "execution_count": 73,
   "id": "0d0669d3",
   "metadata": {},
   "outputs": [
    {
     "name": "stdout",
     "output_type": "stream",
     "text": [
      "accuracy: 0.8104\n",
      "precision: 0.3200\n",
      "recall: 0.8392\n",
      "f1: 0.4633\n",
      "auc: 0.8232\n",
      "\n",
      "Model Comparison (improvement percentages):\n",
      "accuracy: -11.61%\n",
      "precision: -51.63%\n",
      "recall: 179.07%\n",
      "f1: 12.06%\n",
      "auc: 28.22%\n"
     ]
    },
    {
     "name": "stderr",
     "output_type": "stream",
     "text": [
      "/home/codespace/.local/lib/python3.12/site-packages/sklearn/linear_model/_logistic.py:465: ConvergenceWarning: lbfgs failed to converge (status=1):\n",
      "STOP: TOTAL NO. OF ITERATIONS REACHED LIMIT.\n",
      "\n",
      "Increase the number of iterations (max_iter) or scale the data as shown in:\n",
      "    https://scikit-learn.org/stable/modules/preprocessing.html\n",
      "Please also refer to the documentation for alternative solver options:\n",
      "    https://scikit-learn.org/stable/modules/linear_model.html#logistic-regression\n",
      "  n_iter_i = _check_optimize_result(\n"
     ]
    }
   ],
   "source": [
    "# Main execution\n",
    "if __name__ == \"__main__\":\n",
    "    # 1. Load data\n",
    "    data_file = 'data/synthetic_health_data.csv'\n",
    "    df = load_data(data_file)\n",
    "    \n",
    "    # 2. Prepare data with categorical encoding\n",
    "    X_train, X_test, y_train, y_test = prepare_data_part3(df)\n",
    "    \n",
    "    # 3. Apply SMOTE to balance the training data\n",
    "    X_train_resampled, y_train_resampled = apply_smote(X_train, y_train)\n",
    "    \n",
    "    # 4. Train model on resampled data\n",
    "    model = train_logistic_regression(X_train_resampled, y_train_resampled)\n",
    "    \n",
    "    # 5. Evaluate on original test set\n",
    "    metrics = calculate_evaluation_metrics(model, X_test, y_test)\n",
    "    \n",
    "    # 6. Print metrics\n",
    "    for metric, value in metrics.items():\n",
    "        if metric != 'confusion_matrix':\n",
    "            print(f\"{metric}: {value:.4f}\")\n",
    "    \n",
    "    # 7. Save results\n",
    "    with open('results/results_part3.txt', 'w') as file:\n",
    "        for name, value in metrics.items():\n",
    "            file.write(f\"{name}: {value} \\n\")\n",
    "    \n",
    "    # 8. Load Part 1 results for comparison\n",
    "    import json\n",
    "    try:\n",
    "        with open('results/results_part1.txt', 'r') as f:\n",
    "            part1_metrics = json.load(f)\n",
    "        \n",
    "        # 9. Compare models\n",
    "        comparison = compare_models(part1_metrics, metrics)\n",
    "        print(\"\\nModel Comparison (improvement percentages):\")\n",
    "        for metric, improvement in comparison.items():\n",
    "            print(f\"{metric}: {improvement:.2f}%\")\n",
    "    except FileNotFoundError:\n",
    "        print(\"Part 1 results not found. Run part1_introduction.ipynb first.\")"
   ]
  }
 ],
 "metadata": {
  "kernelspec": {
   "display_name": "Python 3",
   "language": "python",
   "name": "python3"
  },
  "language_info": {
   "codemirror_mode": {
    "name": "ipython",
    "version": 3
   },
   "file_extension": ".py",
   "mimetype": "text/x-python",
   "name": "python",
   "nbconvert_exporter": "python",
   "pygments_lexer": "ipython3",
   "version": "3.12.1"
  }
 },
 "nbformat": 4,
 "nbformat_minor": 5
}
