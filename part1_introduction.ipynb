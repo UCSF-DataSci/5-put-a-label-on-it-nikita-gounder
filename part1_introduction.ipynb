{
 "cells": [
  {
   "cell_type": "markdown",
   "id": "a000088b",
   "metadata": {},
   "source": [
    "# Part 1: Introduction to Classification & Evaluation\n",
    "\n",
    "**Objective:** Load the synthetic health data, train a Logistic Regression model, and evaluate its performance."
   ]
  },
  {
   "cell_type": "code",
   "execution_count": 23,
   "id": "d8d11f67",
   "metadata": {},
   "outputs": [
    {
     "name": "stdout",
     "output_type": "stream",
     "text": [
      "Requirement already satisfied: pandas<3.0,>=1.5 in /home/codespace/.local/lib/python3.12/site-packages (from -r requirements.txt (line 2)) (2.2.3)\n",
      "Requirement already satisfied: numpy<3.0,>=1.20 in /home/codespace/.local/lib/python3.12/site-packages (from -r requirements.txt (line 3)) (2.2.5)\n",
      "Requirement already satisfied: scikit-learn<2.0,>=1.0 in /home/codespace/.local/lib/python3.12/site-packages (from -r requirements.txt (line 4)) (1.6.1)\n",
      "Requirement already satisfied: xgboost<3.0,>=1.5 in /home/codespace/.local/lib/python3.12/site-packages (from -r requirements.txt (line 5)) (2.1.4)\n",
      "Requirement already satisfied: imbalanced-learn<1.0,>=0.9 in /home/codespace/.local/lib/python3.12/site-packages (from -r requirements.txt (line 6)) (0.13.0)\n",
      "Requirement already satisfied: matplotlib<4.0,>=3.5 in /home/codespace/.local/lib/python3.12/site-packages (from -r requirements.txt (line 7)) (3.10.1)\n",
      "Requirement already satisfied: seaborn<1.0,>=0.11 in /home/codespace/.local/lib/python3.12/site-packages (from -r requirements.txt (line 8)) (0.13.2)\n",
      "Requirement already satisfied: ipykernel in /home/codespace/.local/lib/python3.12/site-packages (from -r requirements.txt (line 9)) (6.29.5)\n",
      "Requirement already satisfied: python-dateutil>=2.8.2 in /home/codespace/.local/lib/python3.12/site-packages (from pandas<3.0,>=1.5->-r requirements.txt (line 2)) (2.9.0.post0)\n",
      "Requirement already satisfied: pytz>=2020.1 in /home/codespace/.local/lib/python3.12/site-packages (from pandas<3.0,>=1.5->-r requirements.txt (line 2)) (2025.2)\n",
      "Requirement already satisfied: tzdata>=2022.7 in /home/codespace/.local/lib/python3.12/site-packages (from pandas<3.0,>=1.5->-r requirements.txt (line 2)) (2025.2)\n",
      "Requirement already satisfied: scipy>=1.6.0 in /home/codespace/.local/lib/python3.12/site-packages (from scikit-learn<2.0,>=1.0->-r requirements.txt (line 4)) (1.15.2)\n",
      "Requirement already satisfied: joblib>=1.2.0 in /home/codespace/.local/lib/python3.12/site-packages (from scikit-learn<2.0,>=1.0->-r requirements.txt (line 4)) (1.5.0)\n",
      "Requirement already satisfied: threadpoolctl>=3.1.0 in /home/codespace/.local/lib/python3.12/site-packages (from scikit-learn<2.0,>=1.0->-r requirements.txt (line 4)) (3.6.0)\n",
      "Requirement already satisfied: nvidia-nccl-cu12 in /home/codespace/.local/lib/python3.12/site-packages (from xgboost<3.0,>=1.5->-r requirements.txt (line 5)) (2.26.5)\n",
      "Requirement already satisfied: sklearn-compat<1,>=0.1 in /home/codespace/.local/lib/python3.12/site-packages (from imbalanced-learn<1.0,>=0.9->-r requirements.txt (line 6)) (0.1.3)\n",
      "Requirement already satisfied: contourpy>=1.0.1 in /home/codespace/.local/lib/python3.12/site-packages (from matplotlib<4.0,>=3.5->-r requirements.txt (line 7)) (1.3.2)\n",
      "Requirement already satisfied: cycler>=0.10 in /home/codespace/.local/lib/python3.12/site-packages (from matplotlib<4.0,>=3.5->-r requirements.txt (line 7)) (0.12.1)\n",
      "Requirement already satisfied: fonttools>=4.22.0 in /home/codespace/.local/lib/python3.12/site-packages (from matplotlib<4.0,>=3.5->-r requirements.txt (line 7)) (4.57.0)\n",
      "Requirement already satisfied: kiwisolver>=1.3.1 in /home/codespace/.local/lib/python3.12/site-packages (from matplotlib<4.0,>=3.5->-r requirements.txt (line 7)) (1.4.8)\n",
      "Requirement already satisfied: packaging>=20.0 in /home/codespace/.local/lib/python3.12/site-packages (from matplotlib<4.0,>=3.5->-r requirements.txt (line 7)) (25.0)\n",
      "Requirement already satisfied: pillow>=8 in /home/codespace/.local/lib/python3.12/site-packages (from matplotlib<4.0,>=3.5->-r requirements.txt (line 7)) (11.2.1)\n",
      "Requirement already satisfied: pyparsing>=2.3.1 in /home/codespace/.local/lib/python3.12/site-packages (from matplotlib<4.0,>=3.5->-r requirements.txt (line 7)) (3.2.3)\n",
      "Requirement already satisfied: comm>=0.1.1 in /home/codespace/.local/lib/python3.12/site-packages (from ipykernel->-r requirements.txt (line 9)) (0.2.2)\n",
      "Requirement already satisfied: debugpy>=1.6.5 in /home/codespace/.local/lib/python3.12/site-packages (from ipykernel->-r requirements.txt (line 9)) (1.8.14)\n",
      "Requirement already satisfied: ipython>=7.23.1 in /home/codespace/.local/lib/python3.12/site-packages (from ipykernel->-r requirements.txt (line 9)) (9.2.0)\n",
      "Requirement already satisfied: jupyter-client>=6.1.12 in /home/codespace/.local/lib/python3.12/site-packages (from ipykernel->-r requirements.txt (line 9)) (8.6.3)\n",
      "Requirement already satisfied: jupyter-core!=5.0.*,>=4.12 in /home/codespace/.local/lib/python3.12/site-packages (from ipykernel->-r requirements.txt (line 9)) (5.7.2)\n",
      "Requirement already satisfied: matplotlib-inline>=0.1 in /home/codespace/.local/lib/python3.12/site-packages (from ipykernel->-r requirements.txt (line 9)) (0.1.7)\n",
      "Requirement already satisfied: nest-asyncio in /home/codespace/.local/lib/python3.12/site-packages (from ipykernel->-r requirements.txt (line 9)) (1.6.0)\n",
      "Requirement already satisfied: psutil in /home/codespace/.local/lib/python3.12/site-packages (from ipykernel->-r requirements.txt (line 9)) (7.0.0)\n",
      "Requirement already satisfied: pyzmq>=24 in /home/codespace/.local/lib/python3.12/site-packages (from ipykernel->-r requirements.txt (line 9)) (26.4.0)\n",
      "Requirement already satisfied: tornado>=6.1 in /home/codespace/.local/lib/python3.12/site-packages (from ipykernel->-r requirements.txt (line 9)) (6.4.2)\n",
      "Requirement already satisfied: traitlets>=5.4.0 in /home/codespace/.local/lib/python3.12/site-packages (from ipykernel->-r requirements.txt (line 9)) (5.14.3)\n",
      "Requirement already satisfied: decorator in /home/codespace/.local/lib/python3.12/site-packages (from ipython>=7.23.1->ipykernel->-r requirements.txt (line 9)) (5.2.1)\n",
      "Requirement already satisfied: ipython-pygments-lexers in /home/codespace/.local/lib/python3.12/site-packages (from ipython>=7.23.1->ipykernel->-r requirements.txt (line 9)) (1.1.1)\n",
      "Requirement already satisfied: jedi>=0.16 in /home/codespace/.local/lib/python3.12/site-packages (from ipython>=7.23.1->ipykernel->-r requirements.txt (line 9)) (0.19.2)\n",
      "Requirement already satisfied: pexpect>4.3 in /home/codespace/.local/lib/python3.12/site-packages (from ipython>=7.23.1->ipykernel->-r requirements.txt (line 9)) (4.9.0)\n",
      "Requirement already satisfied: prompt_toolkit<3.1.0,>=3.0.41 in /home/codespace/.local/lib/python3.12/site-packages (from ipython>=7.23.1->ipykernel->-r requirements.txt (line 9)) (3.0.51)\n",
      "Requirement already satisfied: pygments>=2.4.0 in /home/codespace/.local/lib/python3.12/site-packages (from ipython>=7.23.1->ipykernel->-r requirements.txt (line 9)) (2.19.1)\n",
      "Requirement already satisfied: stack_data in /home/codespace/.local/lib/python3.12/site-packages (from ipython>=7.23.1->ipykernel->-r requirements.txt (line 9)) (0.6.3)\n",
      "Requirement already satisfied: platformdirs>=2.5 in /home/codespace/.local/lib/python3.12/site-packages (from jupyter-core!=5.0.*,>=4.12->ipykernel->-r requirements.txt (line 9)) (4.3.7)\n",
      "Requirement already satisfied: six>=1.5 in /home/codespace/.local/lib/python3.12/site-packages (from python-dateutil>=2.8.2->pandas<3.0,>=1.5->-r requirements.txt (line 2)) (1.17.0)\n",
      "Requirement already satisfied: parso<0.9.0,>=0.8.4 in /home/codespace/.local/lib/python3.12/site-packages (from jedi>=0.16->ipython>=7.23.1->ipykernel->-r requirements.txt (line 9)) (0.8.4)\n",
      "Requirement already satisfied: ptyprocess>=0.5 in /home/codespace/.local/lib/python3.12/site-packages (from pexpect>4.3->ipython>=7.23.1->ipykernel->-r requirements.txt (line 9)) (0.7.0)\n",
      "Requirement already satisfied: wcwidth in /home/codespace/.local/lib/python3.12/site-packages (from prompt_toolkit<3.1.0,>=3.0.41->ipython>=7.23.1->ipykernel->-r requirements.txt (line 9)) (0.2.13)\n",
      "Requirement already satisfied: executing>=1.2.0 in /home/codespace/.local/lib/python3.12/site-packages (from stack_data->ipython>=7.23.1->ipykernel->-r requirements.txt (line 9)) (2.2.0)\n",
      "Requirement already satisfied: asttokens>=2.1.0 in /home/codespace/.local/lib/python3.12/site-packages (from stack_data->ipython>=7.23.1->ipykernel->-r requirements.txt (line 9)) (3.0.0)\n",
      "Requirement already satisfied: pure-eval in /home/codespace/.local/lib/python3.12/site-packages (from stack_data->ipython>=7.23.1->ipykernel->-r requirements.txt (line 9)) (0.2.3)\n",
      "\n",
      "\u001b[1m[\u001b[0m\u001b[34;49mnotice\u001b[0m\u001b[1;39;49m]\u001b[0m\u001b[39;49m A new release of pip is available: \u001b[0m\u001b[31;49m25.0.1\u001b[0m\u001b[39;49m -> \u001b[0m\u001b[32;49m25.1.1\u001b[0m\n",
      "\u001b[1m[\u001b[0m\u001b[34;49mnotice\u001b[0m\u001b[1;39;49m]\u001b[0m\u001b[39;49m To update, run: \u001b[0m\u001b[32;49mpip install --upgrade pip\u001b[0m\n",
      "Note: you may need to restart the kernel to use updated packages.\n"
     ]
    }
   ],
   "source": [
    "%pip install -r requirements.txt"
   ]
  },
  {
   "cell_type": "markdown",
   "id": "19e52167",
   "metadata": {},
   "source": [
    "## 1. Setup\n",
    "\n",
    "Import necessary libraries."
   ]
  },
  {
   "cell_type": "code",
   "execution_count": 24,
   "id": "1c1c5d8f",
   "metadata": {},
   "outputs": [],
   "source": [
    "import pandas as pd\n",
    "import numpy as np\n",
    "import os\n",
    "from sklearn.model_selection import train_test_split\n",
    "from sklearn.linear_model import LogisticRegression\n",
    "from sklearn.metrics import accuracy_score, precision_score, recall_score, f1_score, roc_auc_score, confusion_matrix\n",
    "from sklearn.impute import SimpleImputer\n",
    "import json"
   ]
  },
  {
   "cell_type": "markdown",
   "id": "fd256448",
   "metadata": {},
   "source": [
    "## 2. Data Loading\n",
    "\n",
    "Implement the `load_data` function to read the dataset."
   ]
  },
  {
   "cell_type": "code",
   "execution_count": 25,
   "id": "896dcd6e",
   "metadata": {},
   "outputs": [],
   "source": [
    "def load_data(file_path):\n",
    "    \"\"\"\n",
    "    Load the synthetic health data from a CSV file.\n",
    "    \n",
    "    Args:\n",
    "        file_path: Path to the CSV file\n",
    "        \n",
    "    Returns:\n",
    "        DataFrame containing the data\n",
    "    \"\"\"\n",
    "    # YOUR CODE HERE\n",
    "    # Load the CSV file using pandas\n",
    "\n",
    "    df = pd.read_csv(file_path)\n",
    "    \n",
    "    return df  # Replace with actual implementation"
   ]
  },
  {
   "cell_type": "markdown",
   "id": "e26f6fe0",
   "metadata": {},
   "source": [
    "## 3. Data Preparation\n",
    "\n",
    "Implement `prepare_data_part1` to select features, split data, and handle missing values."
   ]
  },
  {
   "cell_type": "code",
   "execution_count": 26,
   "id": "11528098",
   "metadata": {},
   "outputs": [],
   "source": [
    "def prepare_data_part1(df, test_size=0.2, random_state=42):\n",
    "    \"\"\"\n",
    "    Prepare data for modeling: select features, split into train/test sets, handle missing values.\n",
    "    \n",
    "    Args:\n",
    "        df: Input DataFrame\n",
    "        test_size: Proportion of data for testing\n",
    "        random_state: Random seed for reproducibility\n",
    "        \n",
    "    Returns:\n",
    "        X_train, X_test, y_train, y_test\n",
    "    \"\"\"\n",
    "    # YOUR CODE HERE\n",
    "    # 1. Select relevant features (age, systolic_bp, diastolic_bp, glucose_level, bmi)\n",
    "    # 2. Select target variable (disease_outcome)\n",
    "    # 3. Split data into training and testing sets\n",
    "    # 4. Handle missing values using SimpleImputer\n",
    "    \n",
    "    features_df = df[['age', 'systolic_bp', 'diastolic_bp', 'glucose_level', 'bmi']]\n",
    "    target = df['disease_outcome']\n",
    "\n",
    "    imputer = SimpleImputer(strategy='mean') #continuos variables\n",
    "    imputer.fit(features_df)\n",
    "    imputed_df = pd.DataFrame(imputer.transform(features_df), columns=features_df.columns)\n",
    "    #features_df = pd.DataFrame(missing.fit_transform(features_df), columns=features_df.columns)\n",
    "\n",
    "    X_train, X_test, y_train, y_test = train_test_split(imputed_df, target, test_size=test_size, random_state=random_state)\n",
    "\n",
    "    # Placeholder return - replace with your implementation\n",
    "    return X_train, X_test, y_train, y_test"
   ]
  },
  {
   "cell_type": "markdown",
   "id": "db408f04",
   "metadata": {},
   "source": [
    "## 4. Model Training\n",
    "\n",
    "Implement `train_logistic_regression`."
   ]
  },
  {
   "cell_type": "code",
   "execution_count": 27,
   "id": "041aea39",
   "metadata": {},
   "outputs": [],
   "source": [
    "def train_logistic_regression(X_train, y_train):\n",
    "    \"\"\"\n",
    "    Train a logistic regression model.\n",
    "    \n",
    "    Args:\n",
    "        X_train: Training features\n",
    "        y_train: Training target\n",
    "        \n",
    "    Returns:\n",
    "        Trained logistic regression model\n",
    "    \"\"\"\n",
    "    # YOUR CODE HERE\n",
    "    # Initialize and train a LogisticRegression model\n",
    "    model = LogisticRegression()\n",
    "    model.fit(X_train, y_train)\n",
    "\n",
    "    return model  # Replace with actual implementation"
   ]
  },
  {
   "cell_type": "markdown",
   "id": "a5b87a97",
   "metadata": {},
   "source": [
    "## 5. Model Evaluation\n",
    "\n",
    "Implement `calculate_evaluation_metrics` to assess the model's performance."
   ]
  },
  {
   "cell_type": "code",
   "execution_count": 28,
   "id": "34cfad0d",
   "metadata": {},
   "outputs": [],
   "source": [
    "def calculate_evaluation_metrics(model, X_test, y_test):\n",
    "    \"\"\"\n",
    "    Calculate classification evaluation metrics.\n",
    "    \n",
    "    Args:\n",
    "        model: Trained model\n",
    "        X_test: Test features\n",
    "        y_test: Test target\n",
    "        \n",
    "    Returns:\n",
    "        Dictionary containing accuracy, precision, recall, f1, auc, and confusion_matrix\n",
    "    \"\"\"\n",
    "    # YOUR CODE HERE\n",
    "    # 1. Generate predictions\n",
    "    # 2. Calculate metrics: accuracy, precision, recall, f1, auc\n",
    "    # 3. Create confusion matrix\n",
    "    # 4. Return metrics in a dictionary\n",
    "    \n",
    "    y_pred = model.predict(X_test)\n",
    "    \n",
    "    accuracy = accuracy_score(y_test, y_pred)\n",
    "    precision = precision_score(y_test, y_pred)\n",
    "    recall = recall_score(y_test, y_pred)\n",
    "    f1 = f1_score(y_test, y_pred)\n",
    "    auc = roc_auc_score(y_test, y_pred)\n",
    "\n",
    "    conf_matrix = confusion_matrix(y_test, y_pred)\n",
    "\n",
    "\n",
    "    # Placeholder return - replace with your implementation\n",
    "    return {'accuracy':accuracy, 'precision':precision, 'recall':recall, 'f1':f1, 'auc':auc, 'confusion_matrix':conf_matrix}"
   ]
  },
  {
   "cell_type": "markdown",
   "id": "eb7aac8f",
   "metadata": {},
   "source": [
    "## 6. Save Results\n",
    "\n",
    "Save the calculated metrics to a text file."
   ]
  },
  {
   "cell_type": "code",
   "execution_count": 29,
   "id": "f11d9158",
   "metadata": {},
   "outputs": [],
   "source": [
    "\n",
    "# Create results directory and save metrics\n",
    "\n",
    "def save_metrics(metric):\n",
    "    # 1. Create 'results' directory if it doesn't exist\n",
    "    # 2. Format metrics as strings\n",
    "    # 3. Write metrics to 'results/results_part1.txt'\n",
    "\n",
    "    os.makedirs('results', exist_ok=True)\n",
    "\n",
    "    if 'confusion_matrix' in metric: #confusion matrix format doesn't work w json in part3\n",
    "        metric['confusion_matrix'] = metric['confusion_matrix'].tolist()\n",
    "\n",
    "    # Save as valid JSON\n",
    "    with open('results/results_part1.txt', 'w') as f:\n",
    "        json.dump(metric, f, indent=4)\n",
    "\n",
    "\n",
    "    #with open('results/results_part1.txt', 'w') as file:\n",
    "        #json.dump(metric, file)\n",
    "        #for name, value in metric.items():\n",
    "            #file.write(f\"{name}: {value} \\n\")\n",
    "        "
   ]
  },
  {
   "cell_type": "markdown",
   "id": "2e55dfef",
   "metadata": {},
   "source": [
    "## 8. Interpret Results\n",
    "\n",
    "Implement a function to analyze the model performance on imbalanced data."
   ]
  },
  {
   "cell_type": "code",
   "execution_count": 30,
   "id": "39a1b91f",
   "metadata": {},
   "outputs": [],
   "source": [
    "def interpret_results(metrics):\n",
    "    \"\"\"\n",
    "    Analyze model performance on imbalanced data.\n",
    "    \n",
    "    Args:\n",
    "        metrics: Dictionary containing evaluation metrics\n",
    "        \n",
    "    Returns:\n",
    "        Dictionary with keys:\n",
    "        - 'best_metric': Name of the metric that performed best\n",
    "        - 'worst_metric': Name of the metric that performed worst\n",
    "        - 'imbalance_impact_score': A score from 0-1 indicating how much\n",
    "          the class imbalance affected results (0=no impact, 1=severe impact)\n",
    "    \"\"\"\n",
    "    # YOUR CODE HERE\n",
    "    # 1. Determine which metric performed best and worst\n",
    "    # 2. Calculate an imbalance impact score based on the difference\n",
    "    #    between accuracy and more imbalance-sensitive metrics like F1 or recall\n",
    "    # 3. Return the results as a dictionary\n",
    "    \n",
    "    # Placeholder return - replace with your implementation\n",
    "\n",
    "    copy = metrics.copy() #to drop confusion matrix\n",
    "    del copy['confusion_matrix']\n",
    "\n",
    "    best = 0\n",
    "    worst = 1\n",
    "\n",
    "    for name, value in copy.items():\n",
    "        if value>best:\n",
    "            best=value\n",
    "            best_metric=name\n",
    "        if value<worst:\n",
    "            worst=value\n",
    "            worst_metric=name\n",
    "\n",
    "\n",
    "    imbalance_score = copy['accuracy']-copy['f1']\n",
    "\n",
    "    return {\n",
    "        'best_metric': best_metric,\n",
    "        'worst_metric': worst_metric,\n",
    "        'imbalance_impact_score': imbalance_score\n",
    "    }"
   ]
  },
  {
   "cell_type": "markdown",
   "id": "1d4b2d84",
   "metadata": {},
   "source": [
    "## 7. Main Execution\n",
    "\n",
    "Run the complete workflow."
   ]
  },
  {
   "cell_type": "code",
   "execution_count": 31,
   "id": "5a4c89cf",
   "metadata": {},
   "outputs": [
    {
     "name": "stdout",
     "output_type": "stream",
     "text": [
      "accuracy: 0.9168\n",
      "precision: 0.6615\n",
      "recall: 0.3007\n",
      "f1: 0.4135\n",
      "auc: 0.6420\n",
      "\n",
      "Results Interpretation:\n",
      "best_metric: accuracy\n",
      "worst_metric: recall\n",
      "imbalance_impact_score: 0.5033188162451464\n"
     ]
    }
   ],
   "source": [
    "# Main execution\n",
    "if __name__ == \"__main__\":\n",
    "    # 1. Load data\n",
    "    data_file = 'data/synthetic_health_data.csv'\n",
    "    df = load_data(data_file)\n",
    "    \n",
    "    # 2. Prepare data\n",
    "    X_train, X_test, y_train, y_test = prepare_data_part1(df)\n",
    "    \n",
    "    # 3. Train model\n",
    "    model = train_logistic_regression(X_train, y_train)\n",
    "    \n",
    "    # 4. Evaluate model\n",
    "    metrics = calculate_evaluation_metrics(model, X_test, y_test)\n",
    "    \n",
    "    # 5. Print metrics\n",
    "    for metric, value in metrics.items():\n",
    "        if metric != 'confusion_matrix':\n",
    "            print(f\"{metric}: {value:.4f}\")\n",
    "    \n",
    "    # 6. Save results\n",
    "    save_metrics(metrics)\n",
    "    \n",
    "    # 7. Interpret results\n",
    "    interpretation = interpret_results(metrics)\n",
    "    print(\"\\nResults Interpretation:\")\n",
    "    for key, value in interpretation.items():\n",
    "        print(f\"{key}: {value}\")\n"
   ]
  }
 ],
 "metadata": {
  "kernelspec": {
   "display_name": "Python 3",
   "language": "python",
   "name": "python3"
  },
  "language_info": {
   "codemirror_mode": {
    "name": "ipython",
    "version": 3
   },
   "file_extension": ".py",
   "mimetype": "text/x-python",
   "name": "python",
   "nbconvert_exporter": "python",
   "pygments_lexer": "ipython3",
   "version": "3.12.1"
  }
 },
 "nbformat": 4,
 "nbformat_minor": 5
}
